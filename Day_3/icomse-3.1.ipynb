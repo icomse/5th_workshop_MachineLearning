{
 "cells": [
  {
   "cell_type": "markdown",
   "metadata": {},
   "source": [
    "This notebook serves as an example of how to analyze a simulation trajectory using unsupervised techniques. Here, specifically, we'll be analyzing a simulation of cyclohexane conformations, simulated using quantum-espresso."
   ]
  },
  {
   "cell_type": "markdown",
   "metadata": {},
   "source": [
    "Before running this notebook, you will need to install:\n",
    "    \n",
    "- [ase](https://wiki.fysik.dtu.dk/ase/index.html)\n",
    "- [scikit-learn](https://scikit-learn.org/)\n",
    "- [scikit-matter](https://github.com/scikit-learn-contrib/scikit-matter)\n",
    "- [chemiscope](https://chemiscope.org)\n",
    "\n",
    "in addition to standard packages [numpy](https://numpy.org/) and [matplotlib](https://matplotlib.org/)."
   ]
  },
  {
   "cell_type": "markdown",
   "metadata": {},
   "source": [
    "## Loading Chemiscope widgets in Jupyter\n",
    "\n",
    "Please make sure you have jupyter extensions enabled.\n",
    "\n",
    "If at *any time* you are unable to load the chemiscope widgets in Jupyter, you can replace `chemiscope.show(` with `chemiscope.write_input('filename.json', ...` and upload the resulting file to [chemiscope.org](chemiscope.org)."
   ]
  },
  {
   "cell_type": "code",
   "execution_count": null,
   "metadata": {},
   "outputs": [],
   "source": [
    "import numpy as np\n",
    "from ase.io import read\n",
    "from matplotlib import pyplot as plt\n",
    "import chemiscope\n",
    "import scipy"
   ]
  },
  {
   "cell_type": "markdown",
   "metadata": {},
   "source": [
    "## Preparing the Data"
   ]
  },
  {
   "cell_type": "markdown",
   "metadata": {},
   "source": [
    "### Read Data\n",
    "\n",
    "Here we read in 5 MD trajectories and place them in a concatenated list `traj`.\n",
    "\n",
    "`ranges` is storing the range of `traj` corresponding to each original file.\n",
    "`conf_idx` is storing the location of the initial conformations.\n",
    "\n",
    "`rgb_colors` is the set of colors used for each conformer, stored in rgba format."
   ]
  },
  {
   "cell_type": "code",
   "execution_count": null,
   "metadata": {},
   "outputs": [],
   "source": [
    "# read in the frames from each MD simulation\n",
    "traj = []\n",
    "names = [\"chair\", \"twist-boat\", \"boat\", \"half-chair\", \"planar\"]\n",
    "rgb_colors = [\n",
    "    (0.13333333333333333, 0.47058823529411764, 0.7098039215686275),\n",
    "    (0.4588235294117647, 0.7568627450980392, 0.34901960784313724),\n",
    "    (0.803921568627451, 0.6078431372549019, 0.16862745098039217),\n",
    "    (0.803921568627451, 0.13725490196078433, 0.15294117647058825),\n",
    "    (0.4392156862745098, 0.2784313725490196, 0.611764705882353),\n",
    "]\n",
    "\n",
    "ranges = np.zeros((len(names), 2), dtype=int)\n",
    "conf_idx = np.zeros(len(names), dtype=int)\n",
    "\n",
    "for i, n in enumerate(names):\n",
    "    frames = read(f\"../../datasets/cyclohexane/{n}.xyz\",\":\",)\n",
    "\n",
    "    ranges[i] = (len(traj), len(traj) + len(frames))\n",
    "    conf_idx[i] = len(traj)\n",
    "    traj = [*traj, *frames]"
   ]
  },
  {
   "cell_type": "code",
   "execution_count": null,
   "metadata": {},
   "outputs": [],
   "source": [
    "# energies of the simulation frames, relative to the chair conformation\n",
    "energy = np.array([a.info[\"relative_energy_eV\"] for a in traj])\n",
    "\n",
    "# energies of the known conformers, relative to the chair conformation\n",
    "c_energy = np.array([traj[c].info[\"relative_energy_eV\"] for c in conf_idx])\n",
    "\n",
    "# extrema for the energies\n",
    "max_e = max(energy)\n",
    "min_e = min(energy)"
   ]
  },
  {
   "cell_type": "markdown",
   "metadata": {},
   "source": [
    "Here we can confirm what our analysis will tell us: \n",
    "\n",
    "- the simulation starting in the planar conformation transitions to the chair conformation\n",
    "- the simulations starting in the twist-boat, boat, and half-chair conformations ultimately get stuck in the twist formation."
   ]
  },
  {
   "cell_type": "code",
   "execution_count": null,
   "metadata": {},
   "outputs": [],
   "source": [
    "fig, ax = plt.subplots(1, figsize=(6, 4))\n",
    "\n",
    "for n, c, r, rgb in zip(names, c_energy, ranges, rgb_colors):\n",
    "    ax.plot(\n",
    "        range(0, r[1] - r[0]), energy[r[0] : r[1]] - min_e, label=n, c=rgb, zorder=-1\n",
    "    )\n",
    "\n",
    "ax.legend()\n",
    "ax.set_xlabel(\"Simulation Timestep\")\n",
    "ax.set_ylabel(\"Energy\")\n",
    "\n",
    "ax.set_xlim([0, len(energy) // 5])\n",
    "ax.set_ylim([-0.1, 1.25 * (max_e - min_e)])\n",
    "ax.set_yticklabels([])\n",
    "\n",
    "plt.tight_layout()\n",
    "# plt.savefig('figures/Figure5/energy.png')\n",
    "plt.show()"
   ]
  },
  {
   "cell_type": "markdown",
   "metadata": {},
   "source": [
    "### Load descriptors \n",
    "We will use some precomputed geometric descriptors -- more on this this afternoon!\n",
    "\n",
    "Here's what you need to know.\n",
    "\n",
    "`atomic_desc` is `5000 x 6 x q` tensor, where `q` is the number of descriptors we have.\n",
    "\n",
    "For each frame, we have one descriptor per carbon atom (hence the 6!).\n",
    "\n",
    "We'll average this per-molecule into the variable `desc`."
   ]
  },
  {
   "cell_type": "code",
   "execution_count": null,
   "metadata": {},
   "outputs": [],
   "source": [
    "atomic_desc = np.load(\"../../datasets/cyclohexane/cyclohexane_descriptors.npy\")\n",
    "\n",
    "X = np.mean(atomic_desc, axis=1)\n",
    "atomic_desc.shape, X.shape"
   ]
  },
  {
   "cell_type": "markdown",
   "metadata": {},
   "source": [
    "### Setting the colormap\n",
    "Here we are going to color each of our points based upon their similar to the initial conformers (which has been pre-computed)."
   ]
  },
  {
   "cell_type": "code",
   "execution_count": null,
   "metadata": {},
   "outputs": [],
   "source": [
    "closest_config = np.array([frame.info[\"closest_conformer\"] for frame in traj])\n",
    "colors = np.array([frame.info[\"color\"] for frame in traj])"
   ]
  },
  {
   "cell_type": "markdown",
   "metadata": {},
   "source": [
    "# Mapping time!"
   ]
  },
  {
   "cell_type": "markdown",
   "metadata": {},
   "source": [
    "### Linear Principal Components Analysis"
   ]
  },
  {
   "cell_type": "markdown",
   "metadata": {},
   "source": [
    "Finish the code to compute PCA from scratch."
   ]
  },
  {
   "cell_type": "code",
   "execution_count": null,
   "metadata": {},
   "outputs": [],
   "source": [
    "C = X.T @ X # ...\n",
    "\n",
    "v_C, U_C = scipy.sparse.linalg.eigsh(C, k=100)\n",
    "\n",
    "# U_C/v_C are already sorted, but in *increasing* order, so reverse them\n",
    "U_C = np.flip(U_C, axis=1)\n",
    "v_C = np.flip(v_C, axis=0)\n",
    "\n",
    "Kgram = X @ X.T # ...\n",
    "\n",
    "v_K, U_K = scipy.sparse.linalg.eigsh(Kgram, k=100)\n",
    "\n",
    "U_K = np.flip(U_K, axis=1)\n",
    "v_K = np.flip(v_K, axis=0)"
   ]
  },
  {
   "cell_type": "markdown",
   "metadata": {},
   "source": [
    "As you can see, the covariance and Gram matrices have the same eigenvalues:"
   ]
  },
  {
   "cell_type": "code",
   "execution_count": null,
   "metadata": {},
   "outputs": [],
   "source": [
    "plt.semilogy(v_C)\n",
    "plt.semilogy(v_K)"
   ]
  },
  {
   "cell_type": "markdown",
   "metadata": {},
   "source": [
    "Our projections should be identical, bar any mirroring."
   ]
  },
  {
   "cell_type": "code",
   "execution_count": null,
   "metadata": {},
   "outputs": [],
   "source": [
    "# we add a factor of v_K^{1/2} (our singular values) to normalize our first projection\n",
    "T_K = U_K @ np.diag(np.sqrt(v_K))\n",
    "\n",
    "# no factor needed here!\n",
    "T_C = X @ U_C\n",
    "\n",
    "fig, (axK, axC) = plt.subplots(1, 2, figsize=(10, 4))\n",
    "axK.scatter(T_K[:, 0], T_K[:, 1], marker=\".\")\n",
    "axC.scatter(T_C[:, 0], T_C[:, 1], marker=\".\")"
   ]
  },
  {
   "cell_type": "code",
   "execution_count": null,
   "metadata": {},
   "outputs": [],
   "source": [
    "from sklearn.decomposition import PCA\n",
    "\n",
    "pca = PCA()\n",
    "pca.fit(X)\n",
    "\n",
    "T = pca.transform(X)\n",
    "\n",
    "chemiscope.show(\n",
    "    traj,\n",
    "    properties={\n",
    "        \"t\": T[:, :5],\n",
    "        \"Relative Energy [eV]\": energy,\n",
    "        \"Closest Conformer\": closest_config,\n",
    "    },\n",
    "    settings={\n",
    "        \"map\": {\n",
    "            \"symbol\": \"Closest Conformer\",\n",
    "            \"color\": {\"property\": \"Relative Energy [eV]\"},\n",
    "        }\n",
    "    },\n",
    ")"
   ]
  },
  {
   "cell_type": "markdown",
   "metadata": {},
   "source": [
    "Even when our PCA is not as easily interpretable as it is here, we can use it towards data compression by looking at the variance contained in the components:"
   ]
  },
  {
   "cell_type": "code",
   "execution_count": null,
   "metadata": {},
   "outputs": [],
   "source": [
    "plt.loglog(pca.explained_variance_ratio_)\n",
    "plt.gca().set_xlabel(r\"$n_{PC}$\")\n",
    "plt.gca().set_ylabel(\"Explained Variance Ratio\")\n",
    "\n",
    "n_pca = np.where(np.cumsum(pca.explained_variance_ratio_) > 0.9999)[0][0]\n",
    "plt.axvline(n_pca, c=\"k\", linestyle=\"--\")\n",
    "print(\n",
    "    \"This shows that we can retain most of the variance (>99.99%) in {} vectors. We'll use this as our descriptor in some other algorithms below for complexity's sake.\".format(\n",
    "        n_pca\n",
    "    )\n",
    ")\n",
    "\n",
    "plt.tight_layout()"
   ]
  },
  {
   "cell_type": "markdown",
   "metadata": {},
   "source": [
    "## MDS"
   ]
  },
  {
   "cell_type": "code",
   "execution_count": null,
   "metadata": {},
   "outputs": [],
   "source": [
    "from sklearn.manifold import MDS\n",
    "\n",
    "mds = MDS(n_components=5)\n",
    "mds.fit(X)\n",
    "\n",
    "T = mds.embedding_\n",
    "\n",
    "chemiscope.show(\n",
    "    traj,\n",
    "    properties={\n",
    "        \"t\": T,\n",
    "        \"Relative Energy [eV]\": energy,\n",
    "        \"Closest Conformer\": closest_config,\n",
    "    },\n",
    "    settings={\n",
    "        \"map\": {\n",
    "            \"symbol\": \"Closest Conformer\",\n",
    "            \"color\": {\"property\": \"Relative Energy [eV]\"},\n",
    "        }\n",
    "    },\n",
    ")"
   ]
  },
  {
   "cell_type": "markdown",
   "metadata": {},
   "source": [
    "## KPCA"
   ]
  },
  {
   "cell_type": "markdown",
   "metadata": {},
   "source": [
    "Let's try KPCA! I have precomputed the kernel, to spare everyone's computer some headaches."
   ]
  },
  {
   "cell_type": "code",
   "execution_count": null,
   "metadata": {},
   "outputs": [],
   "source": [
    "K = np.load(\"../../datasets/cyclohexane/normalized_kernel.npy\")"
   ]
  },
  {
   "cell_type": "code",
   "execution_count": null,
   "metadata": {},
   "outputs": [],
   "source": [
    "from sklearn.decomposition import KernelPCA\n",
    "\n",
    "kpca = KernelPCA(kernel=\"precomputed\", n_components=2)\n",
    "kpca.fit(K)\n",
    "\n",
    "T = kpca.transform(K)\n",
    "\n",
    "chemiscope.show(\n",
    "    traj,\n",
    "    properties={\n",
    "        \"t\": T,\n",
    "        \"Relative Energy [eV]\": energy,\n",
    "        \"Closest Conformer\": closest_config,\n",
    "    },\n",
    "    settings={\n",
    "        \"map\": {\n",
    "            \"symbol\": \"Closest Conformer\",\n",
    "            \"color\": {\"property\": \"Relative Energy [eV]\"},\n",
    "        }\n",
    "    },\n",
    ")"
   ]
  },
  {
   "cell_type": "code",
   "execution_count": null,
   "metadata": {},
   "outputs": [],
   "source": []
  }
 ],
 "metadata": {
  "hide_input": false,
  "kernelspec": {
   "display_name": "Python 3 (ipykernel)",
   "language": "python",
   "name": "python3"
  },
  "language_info": {
   "codemirror_mode": {
    "name": "ipython",
    "version": 3
   },
   "file_extension": ".py",
   "mimetype": "text/x-python",
   "name": "python",
   "nbconvert_exporter": "python",
   "pygments_lexer": "ipython3",
   "version": "3.10.10"
  },
  "toc": {
   "base_numbering": 1,
   "nav_menu": {},
   "number_sections": true,
   "sideBar": true,
   "skip_h1_title": false,
   "title_cell": "Table of Contents",
   "title_sidebar": "Contents",
   "toc_cell": false,
   "toc_position": {
    "height": "calc(100% - 180px)",
    "left": "10px",
    "top": "150px",
    "width": "186.797px"
   },
   "toc_section_display": true,
   "toc_window_display": true
  }
 },
 "nbformat": 4,
 "nbformat_minor": 4
}

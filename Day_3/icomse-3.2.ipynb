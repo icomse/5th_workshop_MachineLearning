{
 "cells": [
  {
   "cell_type": "markdown",
   "metadata": {},
   "source": [
    "This notebook serves as an example of how to analyze a simulation trajectory using unsupervised techniques. Here, specifically, we'll be analyzing a simulation of cyclohexane conformations, simulated using quantum-espresso."
   ]
  },
  {
   "cell_type": "markdown",
   "metadata": {},
   "source": [
    "Before running this notebook, you will need to install:\n",
    "    \n",
    "- [ase](https://wiki.fysik.dtu.dk/ase/index.html)\n",
    "- [scikit-learn](https://scikit-learn.org/)\n",
    "- [scikit-matter](https://github.com/scikit-learn-contrib/scikit-matter)\n",
    "- [openTSNE](https://opentsne.readthedocs.io/en/stable/)\n",
    "- [umap](https://umap-learn.readthedocs.io/en/latest/how_umap_works.html)\n",
    "- [chemiscope](https://chemiscope.org)\n",
    "\n",
    "in addition to standard packages [numpy](https://numpy.org/) and [matplotlib](https://matplotlib.org/)."
   ]
  },
  {
   "cell_type": "markdown",
   "metadata": {},
   "source": [
    "## Loading Chemiscope widgets in Jupyter\n",
    "\n",
    "Please make sure you have jupyter extensions enabled.\n",
    "\n",
    "If at *any time* you are unable to load the chemiscope widgets in Jupyter, you can replace `chemiscope.show(` with `chemiscope.write_input('filename.json', ...` and upload the resulting file to [chemiscope.org](chemiscope.org)."
   ]
  },
  {
   "cell_type": "code",
   "execution_count": null,
   "metadata": {},
   "outputs": [],
   "source": [
    "import numpy as np\n",
    "from ase.io import read\n",
    "from matplotlib import pyplot as plt\n",
    "import chemiscope\n",
    "import scipy\n",
    "from openTSNE import TSNE\n",
    "from umap import UMAP"
   ]
  },
  {
   "cell_type": "markdown",
   "metadata": {},
   "source": [
    "## Preparing the Data"
   ]
  },
  {
   "cell_type": "markdown",
   "metadata": {},
   "source": [
    "### Read Data\n",
    "\n",
    "Here we read in 5 MD trajectories and place them in a concatenated list `traj`.\n",
    "\n",
    "`ranges` is storing the range of `traj` corresponding to each original file.\n",
    "`conf_idx` is storing the location of the initial conformations.\n",
    "\n",
    "`rgb_colors` is the set of colors used for each conformer, stored in rgba format."
   ]
  },
  {
   "cell_type": "code",
   "execution_count": null,
   "metadata": {},
   "outputs": [],
   "source": [
    "# read in the frames from each MD simulation\n",
    "traj = []\n",
    "names = [\"chair\", \"twist-boat\", \"boat\", \"half-chair\", \"planar\"]\n",
    "rgb_colors = [\n",
    "    (0.13333333333333333, 0.47058823529411764, 0.7098039215686275),\n",
    "    (0.4588235294117647, 0.7568627450980392, 0.34901960784313724),\n",
    "    (0.803921568627451, 0.6078431372549019, 0.16862745098039217),\n",
    "    (0.803921568627451, 0.13725490196078433, 0.15294117647058825),\n",
    "    (0.4392156862745098, 0.2784313725490196, 0.611764705882353),\n",
    "]\n",
    "\n",
    "ranges = np.zeros((len(names), 2), dtype=int)\n",
    "conf_idx = np.zeros(len(names), dtype=int)\n",
    "\n",
    "for i, n in enumerate(names):\n",
    "    frames = read(f\"../../datasets/cyclohexane/{n}.xyz\",\":\",)\n",
    "\n",
    "    ranges[i] = (len(traj), len(traj) + len(frames))\n",
    "    conf_idx[i] = len(traj)\n",
    "    traj = [*traj, *frames]"
   ]
  },
  {
   "cell_type": "code",
   "execution_count": null,
   "metadata": {},
   "outputs": [],
   "source": [
    "# energies of the simulation frames, relative to the chair conformation\n",
    "energy = np.array([a.info[\"relative_energy_eV\"] for a in traj])\n",
    "\n",
    "# energies of the known conformers, relative to the chair conformation\n",
    "c_energy = np.array([traj[c].info[\"relative_energy_eV\"] for c in conf_idx])\n",
    "\n",
    "# extrema for the energies\n",
    "max_e = max(energy)\n",
    "min_e = min(energy)"
   ]
  },
  {
   "cell_type": "markdown",
   "metadata": {},
   "source": [
    "Here we can confirm what our analysis will tell us: \n",
    "\n",
    "- the simulation starting in the planar conformation transitions to the chair conformation\n",
    "- the simulations starting in the twist-boat, boat, and half-chair conformations ultimately get stuck in the twist formation."
   ]
  },
  {
   "cell_type": "code",
   "execution_count": null,
   "metadata": {},
   "outputs": [],
   "source": [
    "fig, ax = plt.subplots(1, figsize=(6, 4))\n",
    "\n",
    "for n, c, r, rgb in zip(names, c_energy, ranges, rgb_colors):\n",
    "    ax.plot(\n",
    "        range(0, r[1] - r[0]), energy[r[0] : r[1]] - min_e, label=n, c=rgb, zorder=-1\n",
    "    )\n",
    "\n",
    "ax.legend()\n",
    "ax.set_xlabel(\"Simulation Timestep\")\n",
    "ax.set_ylabel(\"Energy\")\n",
    "\n",
    "ax.set_xlim([0, len(energy) // 5])\n",
    "ax.set_ylim([-0.1, 1.25 * (max_e - min_e)])\n",
    "ax.set_yticklabels([])\n",
    "\n",
    "plt.tight_layout()\n",
    "# plt.savefig('figures/Figure5/energy.png')\n",
    "plt.show()"
   ]
  },
  {
   "cell_type": "markdown",
   "metadata": {},
   "source": [
    "### Load descriptors \n",
    "We will use some precomputed geometric descriptors -- more on this this afternoon!\n",
    "\n",
    "Here's what you need to know.\n",
    "\n",
    "`atomic_desc` is `5000 x 6 x q` tensor, where `q` is the number of descriptors we have.\n",
    "\n",
    "For each frame, we have one descriptor per carbon atom (hence the 6!).\n",
    "\n",
    "We'll average this per-molecule into the variable `desc`."
   ]
  },
  {
   "cell_type": "code",
   "execution_count": null,
   "metadata": {},
   "outputs": [],
   "source": [
    "atomic_desc = np.load(\"../../datasets/cyclohexane/cyclohexane_descriptors.npy\")\n",
    "\n",
    "X = np.mean(atomic_desc, axis=1)\n",
    "atomic_desc.shape, X.shape"
   ]
  },
  {
   "cell_type": "markdown",
   "metadata": {},
   "source": [
    "### Setting the colormap\n",
    "Here we are going to color each of our points based upon their similar to the initial conformers (which has been pre-computed)."
   ]
  },
  {
   "cell_type": "code",
   "execution_count": null,
   "metadata": {},
   "outputs": [],
   "source": [
    "closest_config = np.array([frame.info[\"closest_conformer\"] for frame in traj])\n",
    "colors = np.array([frame.info[\"color\"] for frame in traj])"
   ]
  },
  {
   "cell_type": "markdown",
   "metadata": {},
   "source": [
    "# Mapping time!"
   ]
  },
  {
   "cell_type": "markdown",
   "metadata": {},
   "source": [
    "Before we start, we're going to reduce our dimensionality for computation-sake."
   ]
  },
  {
   "cell_type": "code",
   "execution_count": null,
   "metadata": {},
   "outputs": [],
   "source": [
    "from sklearn.decomposition import PCA\n",
    "\n",
    "# 0.9999 tells us here to keep 99.99% of the variance\n",
    "pca = PCA(n_components=0.9999)\n",
    "pca.fit(X)\n",
    "\n",
    "pca_desc = pca.transform(X)"
   ]
  },
  {
   "cell_type": "markdown",
   "metadata": {},
   "source": [
    "### t-SNE\n",
    "\n",
    "PCA is not intended as a clustering algorithm -- it just sometimes work out to give nice clusters.\n",
    "Let's employ one of the most popular non-linear dimensionality reduction algorithm in ML field `T-distributed Stochastic Neighbor Embedding (t-SNE)` to obtain 2 dimensional representation of our descriptor space. "
   ]
  },
  {
   "cell_type": "markdown",
   "metadata": {},
   "source": [
    "Here we can see how increasing the perplexity (number of expected neighbors) changes the layout of the projection."
   ]
  },
  {
   "cell_type": "code",
   "execution_count": null,
   "metadata": {},
   "outputs": [],
   "source": [
    "perplexities = np.logspace(0, 2, 6, dtype=int)\n",
    "fig, ax = plt.subplots(\n",
    "    1,\n",
    "    len(perplexities),\n",
    "    figsize=(4 * len(perplexities), 4),\n",
    ")\n",
    "\n",
    "for i, perp in enumerate(perplexities):\n",
    "    tsne = TSNE(\n",
    "        n_components=2,  # number of components to project across\n",
    "        perplexity=perp,\n",
    "        metric=\"l2\",  # distance metric\n",
    "        n_jobs=2,  # parallelization\n",
    "        random_state=42,\n",
    "        verbose=False,\n",
    "    )\n",
    "    t_tsne = tsne.fit(pca_desc)\n",
    "    ax[i].scatter(*t_tsne.T, c=colors, s=2)\n",
    "    ax[i].axis(\"off\")\n",
    "    ax[i].set_title(\"Perplexity = {}\".format(perp))\n",
    "plt.show()"
   ]
  },
  {
   "cell_type": "code",
   "execution_count": null,
   "metadata": {},
   "outputs": [],
   "source": [
    "# How many neighbors do you think we should use?\n",
    "\n",
    "n_neighbors_TSNE = # ..."
   ]
  },
  {
   "cell_type": "code",
   "execution_count": null,
   "metadata": {},
   "outputs": [],
   "source": [
    "tsne = TSNE(\n",
    "    n_components=2,  # number of components to project across\n",
    "    perplexity=n_neighbors_TSNE,  # amount of neighbors one point is posited to have... play around with this!\n",
    "    metric=\"l2\",  # distance metric\n",
    "    n_jobs=2,  # parallelization\n",
    "    random_state=42,\n",
    "    verbose=False,\n",
    ")\n",
    "T = tsne.fit(pca_desc)"
   ]
  },
  {
   "cell_type": "code",
   "execution_count": null,
   "metadata": {},
   "outputs": [],
   "source": [
    "chemiscope.show(\n",
    "    traj,\n",
    "    properties={\n",
    "        \"t\": T,\n",
    "        \"Relative Energy [eV]\": energy,\n",
    "        \"Closest Conformer\": closest_config,\n",
    "    },\n",
    "    settings={\n",
    "        \"map\": {\n",
    "            \"symbol\": \"Closest Conformer\",\n",
    "            \"color\": {\"property\": \"Relative Energy [eV]\"},\n",
    "        }\n",
    "    },\n",
    ")"
   ]
  },
  {
   "cell_type": "markdown",
   "metadata": {},
   "source": [
    "Because t-SNE will change based upon the dimensions of your resulting projection, let's see how this affects our embedding."
   ]
  },
  {
   "cell_type": "code",
   "execution_count": null,
   "metadata": {},
   "outputs": [],
   "source": [
    "ndim = np.arange(2, 6, dtype=int)\n",
    "fig, ax = plt.subplots(\n",
    "    1,\n",
    "    len(ndim),\n",
    "    figsize=(4 * len(ndim), 4),\n",
    ")\n",
    "\n",
    "for i, dim in enumerate(ndim):\n",
    "    tsne = TSNE(\n",
    "        n_components=dim,  # number of components to project across\n",
    "        perplexity=n_neighbors_TSNE,\n",
    "        metric=\"l2\",  # distance metric\n",
    "        n_jobs=2,  # parallelization\n",
    "        random_state=42,\n",
    "        verbose=False,\n",
    "    )\n",
    "    t_tsne = tsne.fit(pca_desc)[:, :2]\n",
    "    ax[i].scatter(*t_tsne.T, c=colors, s=2)\n",
    "    ax[i].axis(\"off\")\n",
    "    ax[i].set_title(\"n_dim = {}\".format(dim))\n",
    "plt.show()"
   ]
  },
  {
   "cell_type": "markdown",
   "metadata": {},
   "source": [
    "We can also see how t-SNE changes based upon the dimensionality of the dataset provided."
   ]
  },
  {
   "cell_type": "code",
   "execution_count": null,
   "metadata": {},
   "outputs": [],
   "source": [
    "ndim = np.logspace(np.log10(2), np.log10(pca_desc.shape[1]), 6, dtype=int)\n",
    "fig, ax = plt.subplots(\n",
    "    1,\n",
    "    len(ndim),\n",
    "    figsize=(4 * len(ndim), 4),\n",
    ")\n",
    "\n",
    "for i, dim in enumerate(ndim):\n",
    "    tsne = TSNE(\n",
    "        n_components=2,  # number of components to project across\n",
    "        perplexity=n_neighbors_TSNE,\n",
    "        metric=\"l2\",  # distance metric\n",
    "        n_jobs=2,  # parallelization\n",
    "        random_state=42,\n",
    "        verbose=False,\n",
    "    )\n",
    "    t_tsne = tsne.fit(pca_desc[:, :dim])\n",
    "    ax[i].scatter(*t_tsne.T, c=colors, s=2)\n",
    "    ax[i].axis(\"off\")\n",
    "    ax[i].set_title(\"n_dim of descriptor = {}\".format(dim))\n",
    "plt.show()"
   ]
  },
  {
   "cell_type": "markdown",
   "metadata": {},
   "source": [
    "t-SNE is fickle! When you've reached this point in the notebook, raise your hand and we'll discuss the appropriate uses for t-SNE. If you need something to do while you wait, this article is one of the best:\n",
    "\n",
    "https://distill.pub/2016/misread-tsne/"
   ]
  },
  {
   "cell_type": "markdown",
   "metadata": {},
   "source": [
    "## UMAP\n",
    "\n",
    "UMAP _should_ obtain similar results to t-sne, but with a shorter compute time. However, you will note a greater stochasticity to the projection when using a smaller number of neighbors -- this is due to the disconnection of the locally constructed manifolds."
   ]
  },
  {
   "cell_type": "code",
   "execution_count": null,
   "metadata": {},
   "outputs": [],
   "source": [
    "nneigh = np.maximum(2, np.logspace(0, 2.0, 5, dtype=int))\n",
    "fig, ax = plt.subplots(1,\n",
    "                       len(nneigh),\n",
    "                       figsize=(4*len(nneigh), 4),\n",
    "                      )\n",
    "\n",
    "for i, n in enumerate(nneigh):\n",
    "    um = UMAP(n_components=2, n_neighbors=n, init='random')\n",
    "    um.fit(pca_desc)\n",
    "    t_um = um.transform(pca_desc)\n",
    "    ax[i].scatter(*t_um.T, c=colors, s=2)\n",
    "    ax[i].axis('off')\n",
    "    ax[i].set_title(\"# Neighbors = {}\".format(n))\n",
    "plt.show()"
   ]
  },
  {
   "cell_type": "code",
   "execution_count": null,
   "metadata": {},
   "outputs": [],
   "source": [
    "# How many neighbors do you think we should use?\n",
    "\n",
    "n_neighbors_UMAP = # ..."
   ]
  },
  {
   "cell_type": "code",
   "execution_count": null,
   "metadata": {},
   "outputs": [],
   "source": [
    "um = UMAP(n_components=2, n_neighbors=n_neighbors_UMAP, init='random')\n",
    "um.fit(pca_desc)\n",
    "T = um.transform(pca_desc)\n",
    "\n",
    "chemiscope.show(\n",
    "    traj,\n",
    "    properties={\n",
    "        \"t\": T,\n",
    "        \"Relative Energy [eV]\": energy,\n",
    "        \"Closest Conformer\": closest_config,\n",
    "    },\n",
    "    settings={\n",
    "        \"map\": {\n",
    "            \"symbol\": \"Closest Conformer\",\n",
    "            \"color\": {\"property\": \"Relative Energy [eV]\"},\n",
    "        }\n",
    "    },\n",
    ")"
   ]
  },
  {
   "cell_type": "code",
   "execution_count": null,
   "metadata": {},
   "outputs": [],
   "source": []
  },
  {
   "cell_type": "code",
   "execution_count": null,
   "metadata": {},
   "outputs": [],
   "source": []
  }
 ],
 "metadata": {
  "hide_input": false,
  "kernelspec": {
   "display_name": "Python 3 (ipykernel)",
   "language": "python",
   "name": "python3"
  },
  "language_info": {
   "codemirror_mode": {
    "name": "ipython",
    "version": 3
   },
   "file_extension": ".py",
   "mimetype": "text/x-python",
   "name": "python",
   "nbconvert_exporter": "python",
   "pygments_lexer": "ipython3",
   "version": "3.10.10"
  },
  "toc": {
   "base_numbering": 1,
   "nav_menu": {},
   "number_sections": true,
   "sideBar": true,
   "skip_h1_title": false,
   "title_cell": "Table of Contents",
   "title_sidebar": "Contents",
   "toc_cell": false,
   "toc_position": {
    "height": "calc(100% - 180px)",
    "left": "10px",
    "top": "150px",
    "width": "186.797px"
   },
   "toc_section_display": true,
   "toc_window_display": true
  }
 },
 "nbformat": 4,
 "nbformat_minor": 4
}
